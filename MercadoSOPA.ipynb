{
 "cells": [
  {
   "cell_type": "markdown",
   "metadata": {},
   "source": [
    "**Librerias**\n",
    "\n",
    "**Request**\n",
    "La librería **requests** la utilizaremos para realizar las peticiones a la página de la que vamos a extraer los datos.\n",
    "Esta librería permite realizar peticiones usando cualquiera de los métodos (get, post, put, delete, patch), envío de parámetros y modificaciones de las cabeceras. \n",
    "\n",
    "**BeautifulSoup**\n",
    "\n",
    "Beautiful **Soup** o **bs4** es una librería que se utiliza para extraer datos de htmls y xml, como veréis a continuación, esta librería nos facilitará el trabajo a la hora de extraer la información.\n",
    "\n"
   ]
  },
  {
   "cell_type": "code",
   "execution_count": 14,
   "metadata": {},
   "outputs": [],
   "source": [
    "import requests\n",
    "from bs4 import BeautifulSoup\n",
    "import pandas as pd"
   ]
  },
  {
   "cell_type": "markdown",
   "metadata": {},
   "source": [
    "Para este trabajo extraeremos informacion de **MercadoLibre** en su apartado de libros."
   ]
  },
  {
   "cell_type": "code",
   "execution_count": 15,
   "metadata": {},
   "outputs": [],
   "source": [
    "#link princial\n",
    "link=\"https://libros.mercadolibre.com.mx/literatura-y-ficcion/\""
   ]
  },
  {
   "cell_type": "code",
   "execution_count": 16,
   "metadata": {},
   "outputs": [],
   "source": [
    "#Definimos la cabecera con la cual se va a realizar la peticion\n",
    "headers = {\n",
    "    'User-Agent': 'Mozilla/5.0 (Windows NT 6.3; Win64; x64) AppleWebKit/537.36 (KHTML, like Gecko) Chrome/54.0.2840.71 Safari/537.36'\n",
    "}\n",
    "\n",
    "#Realizamos la peticion\n",
    "r = requests.get(link, headers=headers)\n",
    "\n",
    "#Convertimos el resultado a un objeto de BeautifulSoup\n",
    "soup = BeautifulSoup(r.content, \"html\")\n"
   ]
  },
  {
   "cell_type": "code",
   "execution_count": 17,
   "metadata": {},
   "outputs": [],
   "source": [
    "#funcion que extrae los articulos de la pag principal\n",
    "def raspado (linkPadre):\n",
    "    items=[]\n",
    "    headers = {\n",
    "    'User-Agent': 'Mozilla/5.0 (Windows NT 6.3; Win64; x64) AppleWebKit/537.36 (KHTML, like Gecko) Chrome/54.0.2840.71 Safari/537.36'\n",
    "    }\n",
    "    r = requests.get(linkPadre, headers=headers)\n",
    "    soup = BeautifulSoup(r.content, \"lxml\")\n",
    "    \n",
    "    #regresa links de articulos\n",
    "    links = soup.find_all('div',{'class': 'ui-search-item__group ui-search-item__group--title'})\n",
    "\n",
    "    for i, entrada in enumerate(links):\n",
    "        items.append(entrada.find('a').get('href'))\n",
    "        extract(items[i])\n",
    "        #escrapea el articulo\n",
    "    \n",
    "    #busca la sig pag y hace un llamado recursivo\n",
    "    \n",
    "    #busca la sig pag\n",
    "    pagSig = soup.find_all('li',{'class': 'andes-pagination__button andes-pagination__button--next'})\n",
    "    pagSig=pagSig[0].find('a').get('href')\n",
    "    \n",
    "    #print(\"\\nSigiente pagina\\n\")\n",
    "    \n",
    "    #hace llamado recursivo\n",
    "    raspado(pagSig)\n",
    "    \n",
    "    "
   ]
  },
  {
   "cell_type": "code",
   "execution_count": 18,
   "metadata": {},
   "outputs": [],
   "source": [
    "#funcion que a partir del link de un articulo ,extrae  la informacion requerida\n",
    "# link de ejemplo   https://www.mercadolibre.com.mx/xiaomi-redmi-note-9s-dual-sim-128-gb-azul-aurora-6-gb-ram/p/MLM15586826?searchVariation=MLM15586826&source=search#searchVariation=MLM15586826&position=1&type=product&tracking_id=a8083e62-56e9-4e55-baa9-f7dcd8e1030d\n",
    "\n",
    "def extract(linkArticulo):\n",
    "    datos=[]\n",
    "    headers = {\n",
    "    'User-Agent': 'Mozilla/5.0 (Windows NT 6.3; Win64; x64) AppleWebKit/537.36 (KHTML, like Gecko) Chrome/54.0.2840.71 Safari/537.36'\n",
    "    }\n",
    "    r = requests.get(linkArticulo, headers=headers)\n",
    "    soup = BeautifulSoup(r.content, \"lxml\")\n",
    "    \n",
    "    \n",
    "    #titulo\n",
    "    aux=soup.find_all('h1',{'class': 'ui-pdp-title'})\n",
    "    \n",
    "    if(aux):\n",
    "        titulo=aux[0].get_text()\n",
    "        datos.append(titulo)\n",
    "        print(titulo)\n",
    "    else:\n",
    "        titulo=\"NULL\"\n",
    "        datos.append(\"NULL\")\n",
    "        print(titulo)\n",
    "    \n",
    "    #precio\n",
    "    aux=soup.find_all('div',{'class': 'ui-pdp-price__second-line'})\n",
    "    \n",
    "    if(aux):\n",
    "        precio=aux[0].find('span').get_text()\n",
    "        datos.append(precio)\n",
    "        print(precio)\n",
    "    else:\n",
    "        vendedor=\"0\"\n",
    "        datos.append(\"0\")\n",
    "        print(vendedor)\n",
    "    \n",
    "    #estrellas\n",
    "    aux=soup.find_all('h2',{'class': 'ui-pdp-reviews__rating__summary__average'})\n",
    "    if(aux):\n",
    "        estrellas=aux[0].get_text()\n",
    "        datos.append(estrellas)\n",
    "        print(estrellas)\n",
    "    else:\n",
    "        estrellas=\"0\"\n",
    "        datos.append(\"0\")\n",
    "        print(estrellas)\n",
    "        \n",
    "    #vendedor\n",
    "    aux=soup.find_all('div',{'class': 'ui-pdp-action-modal ui-pdp-seller__link-trigger'})\n",
    "    if(aux):\n",
    "        vendedor=aux[0].find('span').get_text()\n",
    "        datos.append(vendedor)\n",
    "        print(vendedor)\n",
    "    else:\n",
    "        vendedor=\"NULL\"\n",
    "        datos.append(\"NULL\")\n",
    "        print(vendedor)\n",
    "    \n",
    "    #total de ventas\n",
    "    aux=soup.find_all('p',{'class': 'ui-pdp-color--BLACK ui-pdp-size--XSMALL ui-pdp-family--REGULAR ui-pdp-seller__header__subtitle'})\n",
    "    \n",
    "    if(aux):\n",
    "        totalVentas=aux[0].get_text()\n",
    "        datos.append(totalVentas)\n",
    "        print(totalVentas)\n",
    "    else:\n",
    "        totalVentas=\"0\"\n",
    "        datos.append(\"0\")\n",
    "        print(totalVentas)\n",
    "    \n",
    "    #link\n",
    "    link=linkArticulo\n",
    "    datos.append(link)\n",
    "    print(link)\n",
    "    \n",
    "    #numero de ventas\n",
    "    aux=soup.find_all('span',{'class': 'ui-pdp-subtitle'})\n",
    "    \n",
    "    if(aux):\n",
    "        numVentas=aux[0].get_text()\n",
    "        datos.append(numVentas)\n",
    "        print(numVentas)\n",
    "    else:\n",
    "        numVentas=\"0\"\n",
    "        datos.append(\"0\")\n",
    "        print(numVentas)\n",
    "    print(\"\\n\\n\")\n",
    "    \n",
    "\n",
    "    \n",
    "    \n",
    "    \n",
    "    #abre y guarda en el csv\n",
    "    frame=pd.read_csv('Datos.csv')\n",
    "    frame2=pd.DataFrame([datos],columns=[\"Titulo\",\"Precio\",\"Estrellas\",\"Vendedor\",\"TotalVentas\",\"Link\",\"Vendidos\"])\n",
    "    res=frame.append(frame2,sort=False)\n",
    "    res.to_csv('Datos.csv', header=True, index=False)\n"
   ]
  },
  {
   "cell_type": "code",
   "execution_count": 23,
   "metadata": {},
   "outputs": [],
   "source": [
    "#llamado a la funcion de extraccion de datos automatico\n",
    "raspado(\"https://libros.mercadolibre.com.mx/literatura-y-ficcion/\")"
   ]
  },
  {
   "cell_type": "code",
   "execution_count": 14,
   "metadata": {},
   "outputs": [
    {
     "name": "stdout",
     "output_type": "stream",
     "text": [
      "Xiaomi Redmi Note 9S Dual SIM 128 GB azul aurora 6 GB RAM\n",
      "$5,899\n",
      "4.8\n",
      "TUCH\n",
      "MercadoLíder | 1,301 ventas\n",
      "https://www.mercadolibre.com.mx/xiaomi-redmi-note-9s-dual-sim-128-gb-azul-aurora-6-gb-ram/p/MLM15586826?searchVariation=MLM15586826&source=search#searchVariation=MLM15586826&position=1&type=product&tracking_id=a8083e62-56e9-4e55-baa9-f7dcd8e1030d\n",
      "Nuevo  |  17285 vendidos\n",
      "\n",
      "\n",
      "\n"
     ]
    }
   ],
   "source": [
    "#llamada a la funcion para la extraccion de datos de un solo articulo\n",
    "extract(\"https://www.mercadolibre.com.mx/xiaomi-redmi-note-9s-dual-sim-128-gb-azul-aurora-6-gb-ram/p/MLM15586826?searchVariation=MLM15586826&source=search#searchVariation=MLM15586826&position=1&type=product&tracking_id=a8083e62-56e9-4e55-baa9-f7dcd8e1030d\")"
   ]
  }
 ],
 "metadata": {
  "kernelspec": {
   "display_name": "Python 3",
   "language": "python",
   "name": "python3"
  },
  "language_info": {
   "codemirror_mode": {
    "name": "ipython",
    "version": 3
   },
   "file_extension": ".py",
   "mimetype": "text/x-python",
   "name": "python",
   "nbconvert_exporter": "python",
   "pygments_lexer": "ipython3",
   "version": "3.8.3"
  }
 },
 "nbformat": 4,
 "nbformat_minor": 4
}
